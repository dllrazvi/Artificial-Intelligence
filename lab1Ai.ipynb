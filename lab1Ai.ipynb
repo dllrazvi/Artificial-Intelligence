{
  "cells": [
    {
      "cell_type": "markdown",
      "source": [
        "# A.I. Assignment 1\n",
        "\n",
        "Set up and familiarize with some Python packages. A simple application with random numbers.\n",
        "\n",
        "For this assignment you have these tasks:\n",
        "1. Prepare the working environment\n",
        "1. Get familiarized with  Numpy (create and manipulate arrays)\n",
        "1. Get familiarized with  Matplotlib  (display various graphics)\n",
        "1. Get familiarized with  Pytorch tensors (creation and manipulation)\n",
        "1. Get familiarized with  PIL/PILLOW (python image library)\n",
        "1. Two applications: Simulate an unfair probability spinner and performe a Monte Carlo Simulation  \n",
        "\n",
        "## Task 1 - Prepare the working environment\n",
        "\n",
        "In order to present the solved tasks from the laboratories a Jupyter notebook is preferred. For this prepare the working environment as follows:  \n",
        "\n",
        "Install Anaconda distribution and navigator. Create a new  environment aiclasses  and inside this environment install: numpy, matplotlib,  pytorch, pillow.\n",
        "\n",
        "Environments in Python are like sandboxes that have different versions of Python and/or packages installed in them. You can create, export, list, remove, and update environments. Anaconda allows easy management for these.\n",
        "Here are the links for the packages’ documentations if you need further references:  \n",
        "\n",
        "[Pytorch](https://pytorch.org/)\n",
        "[Pillow](https://pillow.readthedocs.io/en/stable/)\n",
        "[Numpy](https://numpy.org/)\n",
        "[Matplotlib](https://matplotlib.org/)\n",
        "\n",
        "After these setups install jupyter notebook and launch it. Create a new notebook related to python 3.\n",
        "\n"
      ],
      "metadata": {
        "id": "opposite-dream"
      },
      "id": "opposite-dream"
    },
    {
      "cell_type": "markdown",
      "source": [
        "## Task 2 -- Get familiarized with Numpy (create and manipulate arrays)"
      ],
      "metadata": {
        "id": "injured-telephone"
      },
      "id": "injured-telephone"
    },
    {
      "cell_type": "code",
      "source": [
        "import numpy as np"
      ],
      "outputs": [],
      "execution_count": null,
      "metadata": {
        "id": "protecting-status"
      },
      "id": "protecting-status"
    },
    {
      "cell_type": "code",
      "source": [
        "my_array = np.array([1, 2, 3, 4])\n",
        "# works as it would with a standard list\n",
        "len(my_array)"
      ],
      "outputs": [
        {
          "output_type": "execute_result",
          "data": {
            "text/plain": [
              "4"
            ]
          },
          "metadata": {},
          "execution_count": 94
        }
      ],
      "execution_count": null,
      "metadata": {
        "scrolled": true,
        "colab": {
          "base_uri": "https://localhost:8080/"
        },
        "id": "pharmaceutical-disaster",
        "outputId": "1585ff52-308d-48a8-8c8f-195556f945b0"
      },
      "id": "pharmaceutical-disaster"
    },
    {
      "cell_type": "markdown",
      "source": [
        "The shape array of an array is very useful (we'll see more of it later when we talk about 2D arrays -- matrices -- and higher-dimensional arrays)."
      ],
      "metadata": {
        "id": "precise-safety"
      },
      "id": "precise-safety"
    },
    {
      "cell_type": "code",
      "source": [
        "my_array.shape"
      ],
      "outputs": [
        {
          "output_type": "execute_result",
          "data": {
            "text/plain": [
              "(4,)"
            ]
          },
          "metadata": {},
          "execution_count": 95
        }
      ],
      "execution_count": null,
      "metadata": {
        "colab": {
          "base_uri": "https://localhost:8080/"
        },
        "id": "south-smell",
        "outputId": "b99d1708-6952-4c37-91bb-6ad2fba2cf36"
      },
      "id": "south-smell"
    },
    {
      "cell_type": "markdown",
      "source": [
        "Numpy arrays are typed. This means that by default, all the elements will be assumed to be of the same type (e.g., integer, float, String)."
      ],
      "metadata": {
        "id": "tender-football"
      },
      "id": "tender-football"
    },
    {
      "cell_type": "code",
      "source": [
        "my_array.dtype"
      ],
      "outputs": [
        {
          "output_type": "execute_result",
          "data": {
            "text/plain": [
              "dtype('int64')"
            ]
          },
          "metadata": {},
          "execution_count": 96
        }
      ],
      "execution_count": null,
      "metadata": {
        "colab": {
          "base_uri": "https://localhost:8080/"
        },
        "id": "terminal-loading",
        "outputId": "077439bf-584d-4bd8-c299-2b5a64b8381d"
      },
      "id": "terminal-loading"
    },
    {
      "cell_type": "markdown",
      "source": [
        "Numpy arrays have similar functionality as lists! Below, we compute the length, slice the array, and iterate through it (one could identically perform the same with a list)."
      ],
      "metadata": {
        "id": "announced-passenger"
      },
      "id": "announced-passenger"
    },
    {
      "cell_type": "code",
      "source": [
        "print(len(my_array))\n",
        "print(my_array[2:4])\n",
        "for element in my_array:\n",
        "    print(element)"
      ],
      "outputs": [
        {
          "output_type": "stream",
          "name": "stdout",
          "text": [
            "4\n",
            "[3 4]\n",
            "1\n",
            "2\n",
            "3\n",
            "4\n"
          ]
        }
      ],
      "execution_count": null,
      "metadata": {
        "colab": {
          "base_uri": "https://localhost:8080/"
        },
        "id": "brave-buyer",
        "outputId": "695ab86d-ad01-4517-8a5b-06c2828de03a"
      },
      "id": "brave-buyer"
    },
    {
      "cell_type": "markdown",
      "source": [
        "There are two ways to manipulate numpy arrays:\n",
        "\n",
        "1. by using the numpy module's methods (e.g., `np.mean()`)\n",
        "1. by applying the function `np.mean()` with the numpy array as an argument."
      ],
      "metadata": {
        "id": "breathing-premises"
      },
      "id": "breathing-premises"
    },
    {
      "cell_type": "code",
      "source": [
        "print(my_array.mean())\n",
        "print(np.mean(my_array))"
      ],
      "outputs": [
        {
          "output_type": "stream",
          "name": "stdout",
          "text": [
            "2.5\n",
            "2.5\n"
          ]
        }
      ],
      "execution_count": null,
      "metadata": {
        "colab": {
          "base_uri": "https://localhost:8080/"
        },
        "id": "proud-adobe",
        "outputId": "cf63ca8f-de68-4ea6-baca-97f9b16585d8"
      },
      "id": "proud-adobe"
    },
    {
      "cell_type": "markdown",
      "source": [
        "There are many other efficient ways to construct numpy arrays. Here are some commonly used numpy array constructors. Read more details in the numpy documentation."
      ],
      "metadata": {
        "id": "deadly-divorce"
      },
      "id": "deadly-divorce"
    },
    {
      "cell_type": "code",
      "source": [
        "np.ones(10) # generates 10 floating point ones"
      ],
      "outputs": [
        {
          "output_type": "execute_result",
          "data": {
            "text/plain": [
              "array([1., 1., 1., 1., 1., 1., 1., 1., 1., 1.])"
            ]
          },
          "metadata": {},
          "execution_count": 99
        }
      ],
      "execution_count": null,
      "metadata": {
        "colab": {
          "base_uri": "https://localhost:8080/"
        },
        "id": "looking-voluntary",
        "outputId": "efea0edc-f51f-4352-9aa3-cba23b0b6c8c"
      },
      "id": "looking-voluntary"
    },
    {
      "cell_type": "markdown",
      "source": [
        "Numpy gains a lot of its efficiency from being typed. That is, all elements in the array have the same type, such as integer or floating point. The default type, as can be seen above, is a float. (Each float uses either 32 or 64 bits of memory, depending on if the code is running a 32-bit or 64-bit machine, respectively)."
      ],
      "metadata": {
        "id": "considerable-adaptation"
      },
      "id": "considerable-adaptation"
    },
    {
      "cell_type": "code",
      "source": [
        "np.dtype(float).itemsize # in bytes (remember, 1 byte = 8 bits)"
      ],
      "outputs": [
        {
          "output_type": "execute_result",
          "data": {
            "text/plain": [
              "8"
            ]
          },
          "metadata": {},
          "execution_count": 100
        }
      ],
      "execution_count": null,
      "metadata": {
        "colab": {
          "base_uri": "https://localhost:8080/"
        },
        "id": "cultural-memphis",
        "outputId": "3ef28bee-e9f8-4d81-e4bd-6812976dcb95"
      },
      "id": "cultural-memphis"
    },
    {
      "cell_type": "code",
      "source": [
        "np.ones(10, dtype='int') # generates 10 integer ones"
      ],
      "outputs": [
        {
          "output_type": "execute_result",
          "data": {
            "text/plain": [
              "array([1, 1, 1, 1, 1, 1, 1, 1, 1, 1])"
            ]
          },
          "metadata": {},
          "execution_count": 101
        }
      ],
      "execution_count": null,
      "metadata": {
        "colab": {
          "base_uri": "https://localhost:8080/"
        },
        "id": "monetary-reset",
        "outputId": "384662ab-95c2-4bf0-e2f2-bf6591abb4e1"
      },
      "id": "monetary-reset"
    },
    {
      "cell_type": "code",
      "source": [
        "np.zeros(10)"
      ],
      "outputs": [
        {
          "output_type": "execute_result",
          "data": {
            "text/plain": [
              "array([0., 0., 0., 0., 0., 0., 0., 0., 0., 0.])"
            ]
          },
          "metadata": {},
          "execution_count": 102
        }
      ],
      "execution_count": null,
      "metadata": {
        "colab": {
          "base_uri": "https://localhost:8080/"
        },
        "id": "illegal-stable",
        "outputId": "c6314705-5af2-404d-e7e0-4406515e2388"
      },
      "id": "illegal-stable"
    },
    {
      "cell_type": "markdown",
      "source": [
        "Often, you will want random numbers. Use the random constructor!"
      ],
      "metadata": {
        "id": "addressed-shadow"
      },
      "id": "addressed-shadow"
    },
    {
      "cell_type": "code",
      "source": [
        "np.random.random(10) # uniform from [0,1]"
      ],
      "outputs": [
        {
          "output_type": "execute_result",
          "data": {
            "text/plain": [
              "array([0.35963059, 0.74645346, 0.80340396, 0.61043768, 0.3203898 ,\n",
              "       0.69692736, 0.67281674, 0.5076932 , 0.97068513, 0.02800004])"
            ]
          },
          "metadata": {},
          "execution_count": 103
        }
      ],
      "execution_count": null,
      "metadata": {
        "colab": {
          "base_uri": "https://localhost:8080/"
        },
        "id": "applicable-gross",
        "outputId": "c1e0839d-f061-4d40-8adf-bd65f329db90"
      },
      "id": "applicable-gross"
    },
    {
      "cell_type": "markdown",
      "source": [
        "You can generate random numbers from a normal distribution with mean 0 and variance 1:"
      ],
      "metadata": {
        "id": "victorian-sitting"
      },
      "id": "victorian-sitting"
    },
    {
      "cell_type": "code",
      "source": [
        "normal_array = np.random.randn(1000)\n",
        "print(\"The sample mean and standard devation are %f and %f, respectively.\" %(np.mean(normal_array), np.std(normal_array)))"
      ],
      "outputs": [
        {
          "output_type": "stream",
          "name": "stdout",
          "text": [
            "The sample mean and standard devation are 0.029872 and 0.979437, respectively.\n"
          ]
        }
      ],
      "execution_count": null,
      "metadata": {
        "colab": {
          "base_uri": "https://localhost:8080/"
        },
        "id": "amended-handy",
        "outputId": "834d0ef9-fc66-44bf-b8ee-4cea7305bae4"
      },
      "id": "amended-handy"
    },
    {
      "cell_type": "code",
      "source": [
        "len(normal_array)"
      ],
      "outputs": [
        {
          "output_type": "execute_result",
          "data": {
            "text/plain": [
              "1000"
            ]
          },
          "metadata": {},
          "execution_count": 105
        }
      ],
      "execution_count": null,
      "metadata": {
        "colab": {
          "base_uri": "https://localhost:8080/"
        },
        "id": "miniature-thumb",
        "outputId": "c5e89a2b-b0c5-4ddc-9723-83a3faf68e0a"
      },
      "id": "miniature-thumb"
    },
    {
      "cell_type": "markdown",
      "source": [
        "You can sample with and without replacement from an array. Let's first construct a list with evenly-spaced values:"
      ],
      "metadata": {
        "id": "immune-clinic"
      },
      "id": "immune-clinic"
    },
    {
      "cell_type": "code",
      "source": [
        "grid = np.arange(0., 1.01, 0.1)\n",
        "grid"
      ],
      "outputs": [
        {
          "output_type": "execute_result",
          "data": {
            "text/plain": [
              "array([0. , 0.1, 0.2, 0.3, 0.4, 0.5, 0.6, 0.7, 0.8, 0.9, 1. ])"
            ]
          },
          "metadata": {},
          "execution_count": 106
        }
      ],
      "execution_count": null,
      "metadata": {
        "colab": {
          "base_uri": "https://localhost:8080/"
        },
        "id": "soviet-excerpt",
        "outputId": "e2f77827-5758-4ab4-9b10-0f9c25e1513e"
      },
      "id": "soviet-excerpt"
    },
    {
      "cell_type": "markdown",
      "source": [
        "Without replacement"
      ],
      "metadata": {
        "id": "silver-vertical"
      },
      "id": "silver-vertical"
    },
    {
      "cell_type": "code",
      "source": [
        "np.random.choice(grid, 5, replace=False)"
      ],
      "outputs": [
        {
          "output_type": "execute_result",
          "data": {
            "text/plain": [
              "array([0.4, 0.8, 0.6, 0.5, 1. ])"
            ]
          },
          "metadata": {},
          "execution_count": 107
        }
      ],
      "execution_count": null,
      "metadata": {
        "colab": {
          "base_uri": "https://localhost:8080/"
        },
        "id": "tropical-hypothetical",
        "outputId": "075365c1-09b2-45fe-bd6b-6e00759d2212"
      },
      "id": "tropical-hypothetical"
    },
    {
      "cell_type": "code",
      "source": [
        "np.random.choice(grid, 20, replace=True)"
      ],
      "outputs": [
        {
          "output_type": "execute_result",
          "data": {
            "text/plain": [
              "array([0.6, 0.4, 0.5, 0.7, 0.2, 1. , 0.9, 0.8, 0.8, 0.1, 0.9, 0.9, 0.3,\n",
              "       0.1, 0. , 0.7, 0.6, 0.8, 0.7, 0.4])"
            ]
          },
          "metadata": {},
          "execution_count": 108
        }
      ],
      "execution_count": null,
      "metadata": {
        "colab": {
          "base_uri": "https://localhost:8080/"
        },
        "id": "vulnerable-regular",
        "outputId": "abe46087-3525-496a-c80c-86dbef0aeb64"
      },
      "id": "vulnerable-regular"
    },
    {
      "cell_type": "markdown",
      "source": [
        "With replacement:"
      ],
      "metadata": {
        "id": "devoted-president"
      },
      "id": "devoted-president"
    },
    {
      "cell_type": "code",
      "source": [
        "np.random.choice(grid, 20, replace=True)"
      ],
      "outputs": [
        {
          "output_type": "execute_result",
          "data": {
            "text/plain": [
              "array([0.2, 0. , 0.3, 0.3, 1. , 0.9, 0.5, 0.6, 0.9, 0. , 0.2, 1. , 0.9,\n",
              "       1. , 0.9, 0.8, 0.5, 0. , 0.8, 1. ])"
            ]
          },
          "metadata": {},
          "execution_count": 109
        }
      ],
      "execution_count": null,
      "metadata": {
        "colab": {
          "base_uri": "https://localhost:8080/"
        },
        "id": "convertible-rider",
        "outputId": "c25f8c7b-eb2a-412f-d1fe-5fecb89b574a"
      },
      "id": "convertible-rider"
    },
    {
      "cell_type": "markdown",
      "source": [
        "Let's create 1,000 points between -10 and 10"
      ],
      "metadata": {
        "id": "equipped-embassy"
      },
      "id": "equipped-embassy"
    },
    {
      "cell_type": "code",
      "source": [
        "x = np.linspace(-10, 10, 1000) # linspace() returns evenly-spaced numbers over a specified interval\n",
        "x[-5:], x[:5]"
      ],
      "outputs": [
        {
          "output_type": "execute_result",
          "data": {
            "text/plain": [
              "(array([ 9.91991992,  9.93993994,  9.95995996,  9.97997998, 10.        ]),\n",
              " array([-10.        ,  -9.97997998,  -9.95995996,  -9.93993994,\n",
              "         -9.91991992]))"
            ]
          },
          "metadata": {},
          "execution_count": 110
        }
      ],
      "execution_count": null,
      "metadata": {
        "colab": {
          "base_uri": "https://localhost:8080/"
        },
        "id": "descending-motivation",
        "outputId": "90178731-6b4e-45d9-9d83-e3aeea668706"
      },
      "id": "descending-motivation"
    },
    {
      "cell_type": "markdown",
      "source": [
        "## Task 3 -- Get familiarized with  Matplotlib  (display various graphics)"
      ],
      "metadata": {
        "id": "intensive-ceremony"
      },
      "id": "intensive-ceremony"
    },
    {
      "cell_type": "markdown",
      "source": [
        "The plot() function is used to draw points (markers) in a diagram. By default, the plot() function draws a line from point to point. The function takes parameters for specifying points in the diagram. Parameter 1 is an array containing the points on the x-axis. Parameter 2 is an array containing the points on the y-axis."
      ],
      "metadata": {
        "id": "union-collins"
      },
      "id": "union-collins"
    },
    {
      "cell_type": "code",
      "source": [
        "import matplotlib.pyplot as plt\n",
        "x = [1, 2]\n",
        "y = [1, 5]\n",
        "plt.plot(x, y)\n",
        "plt.show()"
      ],
      "outputs": [
        {
          "output_type": "display_data",
          "data": {
            "text/plain": [
              "<Figure size 640x480 with 1 Axes>"
            ],
            "image/png": "[encoded data removed]"
          },
          "metadata": {}
        }
      ],
      "execution_count": null,
      "metadata": {
        "colab": {
          "base_uri": "https://localhost:8080/",
          "height": 430
        },
        "id": "interracial-prince",
        "outputId": "afc67bfc-03e8-46c1-8453-8cdfe2d2a4c9"
      },
      "id": "interracial-prince"
    },
    {
      "cell_type": "markdown",
      "source": [
        "*Other example where we modify the line style and the color:*"
      ],
      "metadata": {
        "id": "hawaiian-danish"
      },
      "id": "hawaiian-danish"
    },
    {
      "cell_type": "code",
      "source": [
        "import matplotlib.pyplot as plt\n",
        "import numpy as np\n",
        "x = np.random.randint(low=1, high=20, size=30)\n",
        "plt.plot(x, color = 'blue', linewidth=3, linestyle='dashed')\n",
        "plt.show()"
      ],
      "outputs": [
        {
          "output_type": "display_data",
          "data": {
            "text/plain": [
              "<Figure size 640x480 with 1 Axes>"
            ],
            "image/png": "[encoded data removed]"
          },
          "metadata": {}
        }
      ],
      "execution_count": null,
      "metadata": {
        "colab": {
          "base_uri": "https://localhost:8080/",
          "height": 430
        },
        "id": "central-maine",
        "outputId": "e3df78c3-2f01-4e86-9d65-a4f2268f006f"
      },
      "id": "central-maine"
    },
    {
      "cell_type": "markdown",
      "source": [
        "## Task 4 -- Get familiarized with Pytorch tensors (creation and manipulation)"
      ],
      "metadata": {
        "id": "norman-speech"
      },
      "id": "norman-speech"
    },
    {
      "cell_type": "code",
      "source": [
        "import torch"
      ],
      "outputs": [],
      "execution_count": null,
      "metadata": {
        "id": "colored-civilization"
      },
      "id": "colored-civilization"
    },
    {
      "cell_type": "markdown",
      "source": [
        " ***Creation Examples:***"
      ],
      "metadata": {
        "id": "mineral-assembly"
      },
      "id": "mineral-assembly"
    },
    {
      "cell_type": "code",
      "source": [
        "x = torch.empty(3, 4)\n",
        "print(type(x))\n",
        "print(x)\n"
      ],
      "outputs": [
        {
          "output_type": "stream",
          "name": "stdout",
          "text": [
            "<class 'torch.Tensor'>\n",
            "tensor([[0.0000e+00, 4.0625e+00, 2.7201e+23, 3.1625e+00],\n",
            "        [6.7262e-44, 0.0000e+00, 6.8664e-44, 0.0000e+00],\n",
            "        [2.7949e+10, 3.2863e-41, 3.0913e+10, 3.2863e-41]])\n"
          ]
        }
      ],
      "execution_count": null,
      "metadata": {
        "colab": {
          "base_uri": "https://localhost:8080/"
        },
        "id": "adolescent-adelaide",
        "outputId": "94383dec-00db-4ba6-e641-97373b49a69a"
      },
      "id": "adolescent-adelaide"
    },
    {
      "cell_type": "code",
      "source": [
        "zeros = torch.zeros(2, 3)\n",
        "print(zeros)"
      ],
      "outputs": [
        {
          "output_type": "stream",
          "name": "stdout",
          "text": [
            "tensor([[0., 0., 0.],\n",
            "        [0., 0., 0.]])\n"
          ]
        }
      ],
      "execution_count": null,
      "metadata": {
        "colab": {
          "base_uri": "https://localhost:8080/"
        },
        "id": "surface-harvest",
        "outputId": "b0ee4a18-11ae-4482-f409-3695804e1da3"
      },
      "id": "surface-harvest"
    },
    {
      "cell_type": "code",
      "source": [
        "ones = torch.ones(2, 3)\n",
        "print(ones)"
      ],
      "outputs": [
        {
          "output_type": "stream",
          "name": "stdout",
          "text": [
            "tensor([[1., 1., 1.],\n",
            "        [1., 1., 1.]])\n"
          ]
        }
      ],
      "execution_count": null,
      "metadata": {
        "colab": {
          "base_uri": "https://localhost:8080/"
        },
        "id": "forty-aviation",
        "outputId": "62c006b7-4f50-4357-a275-deff6fe5a0a2"
      },
      "id": "forty-aviation"
    },
    {
      "cell_type": "code",
      "source": [
        "torch.manual_seed(1729)\n",
        "random = torch.rand(2, 3)\n",
        "print(random)"
      ],
      "outputs": [
        {
          "output_type": "stream",
          "name": "stdout",
          "text": [
            "tensor([[0.3126, 0.3791, 0.3087],\n",
            "        [0.0736, 0.4216, 0.0691]])\n"
          ]
        }
      ],
      "execution_count": null,
      "metadata": {
        "colab": {
          "base_uri": "https://localhost:8080/"
        },
        "id": "consecutive-programming",
        "outputId": "b10c7b79-1165-408a-d22a-37bfa3722283"
      },
      "id": "consecutive-programming"
    },
    {
      "cell_type": "markdown",
      "source": [
        "Observe the last example with the seed specified. Run the following example and observe the “random” values generated:"
      ],
      "metadata": {
        "id": "vocational-tuition"
      },
      "id": "vocational-tuition"
    },
    {
      "cell_type": "code",
      "source": [
        "torch.manual_seed(1)\n",
        "random1 = torch.rand(2, 3)\n",
        "print(random1)\n",
        "\n",
        "random2 = torch.rand(2, 3)\n",
        "print(random2)\n",
        "\n",
        "torch.manual_seed(1)\n",
        "random3 = torch.rand(2, 3)\n",
        "print(random3)\n",
        "\n",
        "random4 = torch.rand(2, 3)\n",
        "print(random4)"
      ],
      "outputs": [
        {
          "output_type": "stream",
          "name": "stdout",
          "text": [
            "tensor([[0.7576, 0.2793, 0.4031],\n",
            "        [0.7347, 0.0293, 0.7999]])\n",
            "tensor([[0.3971, 0.7544, 0.5695],\n",
            "        [0.4388, 0.6387, 0.5247]])\n",
            "tensor([[0.7576, 0.2793, 0.4031],\n",
            "        [0.7347, 0.0293, 0.7999]])\n",
            "tensor([[0.3971, 0.7544, 0.5695],\n",
            "        [0.4388, 0.6387, 0.5247]])\n"
          ]
        }
      ],
      "execution_count": null,
      "metadata": {
        "colab": {
          "base_uri": "https://localhost:8080/"
        },
        "id": "billion-sunday",
        "outputId": "42c6c3f9-4d2c-432a-ede1-946e8a040ccc"
      },
      "id": "billion-sunday"
    },
    {
      "cell_type": "markdown",
      "source": [
        "***Tensor Shapes***\n",
        "\n",
        "On performing operations on two or more tensors, they will need to be of the same shape - that is, having the same number of dimensions and the same number of cells in each dimension. For that, we have the `torch.*_like()` methods:\n"
      ],
      "metadata": {
        "id": "whole-immigration"
      },
      "id": "whole-immigration"
    },
    {
      "cell_type": "code",
      "source": [
        "x = torch.empty(2, 2, 3)\n",
        "print(x.shape)\n",
        "print(x)\n",
        "\n",
        "empty_like_x = torch.empty_like(x)\n",
        "print(empty_like_x.shape)\n",
        "print(empty_like_x)\n",
        "\n",
        "zeros_like_x = torch.zeros_like(x)\n",
        "print(zeros_like_x.shape)\n",
        "print(zeros_like_x)\n",
        "\n",
        "ones_like_x = torch.ones_like(x)\n",
        "print(ones_like_x.shape)\n",
        "print(ones_like_x)\n",
        "\n",
        "rand_like_x = torch.rand_like(x)\n",
        "print(rand_like_x.shape)\n",
        "print(rand_like_x)\n"
      ],
      "outputs": [
        {
          "output_type": "stream",
          "name": "stdout",
          "text": [
            "torch.Size([2, 2, 3])\n",
            "tensor([[[3.1256e+10, 3.2863e-41, 2.7949e+10],\n",
            "         [3.2863e-41, 2.9282e-02, 7.9986e-01]],\n",
            "\n",
            "        [[1.4013e-45, 0.0000e+00, 9.1845e-41],\n",
            "         [1.1551e-40, 4.5919e-41, 8.2957e-43]]])\n",
            "torch.Size([2, 2, 3])\n",
            "tensor([[[ 4.1653e+10,  3.2863e-41,  3.1257e+10],\n",
            "         [ 3.2863e-41,  1.1210e-43,  0.0000e+00]],\n",
            "\n",
            "        [[ 8.9683e-44,  0.0000e+00, -3.7585e-04],\n",
            "         [ 7.0065e-45,  3.0913e+10,  3.2863e-41]]])\n",
            "torch.Size([2, 2, 3])\n",
            "tensor([[[0., 0., 0.],\n",
            "         [0., 0., 0.]],\n",
            "\n",
            "        [[0., 0., 0.],\n",
            "         [0., 0., 0.]]])\n",
            "torch.Size([2, 2, 3])\n",
            "tensor([[[1., 1., 1.],\n",
            "         [1., 1., 1.]],\n",
            "\n",
            "        [[1., 1., 1.],\n",
            "         [1., 1., 1.]]])\n",
            "torch.Size([2, 2, 3])\n",
            "tensor([[[0.6826, 0.3051, 0.4635],\n",
            "         [0.4550, 0.5725, 0.4980]],\n",
            "\n",
            "        [[0.9371, 0.6556, 0.3138],\n",
            "         [0.1980, 0.4162, 0.2843]]])\n"
          ]
        }
      ],
      "execution_count": null,
      "metadata": {
        "colab": {
          "base_uri": "https://localhost:8080/"
        },
        "id": "nonprofit-fleece",
        "outputId": "8eb3bff0-7cce-4e62-faa9-46f8da1401df"
      },
      "id": "nonprofit-fleece"
    },
    {
      "cell_type": "markdown",
      "source": [
        "***Moving to GPU***\n",
        "\n",
        "   First, we should check whether a GPU is available, with the is_available() method.\n",
        "\n",
        "   **If you do not have a CUDA-compatible GPU and CUDA drivers installed, the executable cells in this section will not execute any GPU-related code.**\n"
      ],
      "metadata": {
        "id": "detected-committee"
      },
      "id": "detected-committee"
    },
    {
      "cell_type": "code",
      "source": [
        "if torch.cuda.is_available():\n",
        "    print('We have a GPU!')\n",
        "else:\n",
        "    print('Sorry, CPU only.')"
      ],
      "outputs": [
        {
          "output_type": "stream",
          "name": "stdout",
          "text": [
            "Sorry, CPU only.\n"
          ]
        }
      ],
      "execution_count": null,
      "metadata": {
        "colab": {
          "base_uri": "https://localhost:8080/"
        },
        "id": "armed-opposition",
        "outputId": "096f784d-6caa-4115-f08e-63d7c55c638f"
      },
      "id": "armed-opposition"
    },
    {
      "cell_type": "markdown",
      "source": [
        "A common way to handle this situation is this:"
      ],
      "metadata": {
        "id": "expressed-minority"
      },
      "id": "expressed-minority"
    },
    {
      "cell_type": "code",
      "source": [
        "if torch.cuda.is_available():\n",
        "    my_device = torch.device('cuda')\n",
        "else:\n",
        "    my_device = torch.device('cpu')\n",
        "print('Device: {}'.format(my_device))\n",
        "\n",
        "x = torch.rand(2, 2, device=my_device)\n",
        "print(x)"
      ],
      "outputs": [
        {
          "output_type": "stream",
          "name": "stdout",
          "text": [
            "Device: cpu\n",
            "tensor([[0.3398, 0.5239],\n",
            "        [0.7981, 0.7718]])\n"
          ]
        }
      ],
      "execution_count": null,
      "metadata": {
        "colab": {
          "base_uri": "https://localhost:8080/"
        },
        "id": "healthy-assembly",
        "outputId": "e33ff88a-874d-49e6-e299-0d3d7bd23f0f"
      },
      "id": "healthy-assembly"
    },
    {
      "cell_type": "markdown",
      "source": [
        "## Task 5 -- Get familiarized with  PIL/PILLOW (python image library)"
      ],
      "metadata": {
        "id": "blessed-processing"
      },
      "id": "blessed-processing"
    },
    {
      "cell_type": "code",
      "source": [
        "from google.colab import drive\n",
        "drive.mount('/content/drive')"
      ],
      "metadata": {
        "colab": {
          "base_uri": "https://localhost:8080/"
        },
        "id": "ivDE9PoijI-1",
        "outputId": "4e7657a1-5180-4064-ea88-0813ee6a8430"
      },
      "id": "ivDE9PoijI-1",
      "execution_count": null,
      "outputs": [
        {
          "output_type": "stream",
          "name": "stdout",
          "text": [
            "Drive already mounted at /content/drive; to attempt to forcibly remount, call drive.mount(\"/content/drive\", force_remount=True).\n"
          ]
        }
      ]
    },
    {
      "cell_type": "markdown",
      "source": [
        "A. Display an image with pillow (the image must be in the same folder for these examples to run, and we considered the name of the image file `opera.jpg`):"
      ],
      "metadata": {
        "id": "unauthorized-institution"
      },
      "id": "unauthorized-institution"
    },
    {
      "cell_type": "code",
      "source": [
        "\n",
        "# load and show an image with Pillow\n",
        "from PIL import Image\n",
        "# load the image\n",
        "filepath = '/content/drive/My Drive/lab1ai/opera.jpeg'\n",
        "image = Image.open(filepath)\n",
        "# summarize some details about the image\n",
        "print(image.format)\n",
        "print(image.mode)\n",
        "print(image.size)"
      ],
      "outputs": [
        {
          "output_type": "stream",
          "name": "stdout",
          "text": [
            "JPEG\n",
            "RGB\n",
            "(231, 218)\n"
          ]
        }
      ],
      "execution_count": null,
      "metadata": {
        "colab": {
          "base_uri": "https://localhost:8080/"
        },
        "id": "hearing-ecuador",
        "outputId": "a91d3508-89d7-4ca8-b208-bed9cebe924f"
      },
      "id": "hearing-ecuador"
    },
    {
      "cell_type": "code",
      "source": [],
      "metadata": {
        "id": "s0EEBAHzjHZp"
      },
      "id": "s0EEBAHzjHZp",
      "execution_count": null,
      "outputs": []
    },
    {
      "cell_type": "markdown",
      "source": [
        "B. Convert the image to a numpy array:"
      ],
      "metadata": {
        "id": "broken-package"
      },
      "id": "broken-package"
    },
    {
      "cell_type": "code",
      "source": [
        "# load and display an image with Matplotlib\n",
        "from matplotlib import image\n",
        "from matplotlib import pyplot\n",
        "# load image as pixel array\n",
        "data = image.imread(filepath)\n",
        "# summarize shape of the pixel array\n",
        "print(data.dtype)\n",
        "print(data.shape)\n",
        "# display the array of pixels as an image\n",
        "pyplot.imshow(data[:,:,2])\n",
        "pyplot.show()"
      ],
      "outputs": [
        {
          "output_type": "stream",
          "name": "stdout",
          "text": [
            "uint8\n",
            "(218, 231, 3)\n"
          ]
        },
        {
          "output_type": "display_data",
          "data": {
            "text/plain": [
              "<Figure size 640x480 with 1 Axes>"
            ],
            "image/png": "[encoded data removed]"
          },
          "metadata": {}
        }
      ],
      "execution_count": null,
      "metadata": {
        "id": "abstract-proportion",
        "colab": {
          "base_uri": "https://localhost:8080/",
          "height": 469
        },
        "outputId": "628885ab-58b5-4db6-e287-29edf4a92ecd"
      },
      "id": "abstract-proportion"
    },
    {
      "cell_type": "markdown",
      "source": [
        "C. Resize an image to a specific dimension:"
      ],
      "metadata": {
        "id": "respective-relief"
      },
      "id": "respective-relief"
    },
    {
      "cell_type": "code",
      "source": [
        "# create a thumbnail of an image\n",
        "from PIL import Image\n",
        "# load the image\n",
        "image = Image.open(filepath)\n",
        "# report the size of the image\n",
        "print(image.size)\n",
        "# create a thumbnail and preserve aspect ratio\n",
        "image.thumbnail((100,100))\n",
        "# report the size of the thumbnail\n",
        "print(image.size)"
      ],
      "outputs": [
        {
          "output_type": "stream",
          "name": "stdout",
          "text": [
            "(231, 218)\n",
            "(100, 94)\n"
          ]
        }
      ],
      "execution_count": null,
      "metadata": {
        "scrolled": true,
        "id": "floral-cooler",
        "colab": {
          "base_uri": "https://localhost:8080/"
        },
        "outputId": "d061d6f7-cfcc-4482-964c-3922358c25a1"
      },
      "id": "floral-cooler"
    },
    {
      "cell_type": "markdown",
      "source": [
        "D. Other operations can be found at the address [How to Load and Manipulate Images for Deep Learning in Python With PIL/Pillow](https://machinelearningmastery.com/how-to-load-and-manipulate-images-for-deep-learning-in-python-with-pil-pillow/)\n"
      ],
      "metadata": {
        "id": "insured-organic"
      },
      "id": "insured-organic"
    },
    {
      "cell_type": "markdown",
      "source": [
        "## Task 6 -- An application: Simulate an unfair probability spinner"
      ],
      "metadata": {
        "id": "armed-biotechnology"
      },
      "id": "armed-biotechnology"
    },
    {
      "cell_type": "markdown",
      "source": [
        "Conside an unfair probability spinner with $n$ slots. Each slot has a probabilty $P_n \\in [0,1]$ and $\\sum_{i=0}^{n-1}P_i = 1$.\n",
        "\n",
        "Write a function that random generate an index $i$ with the probability $P_i$ from the set $\\{0, 1, ..., n\\}$.  "
      ],
      "metadata": {
        "id": "quick-christian"
      },
      "id": "quick-christian"
    },
    {
      "cell_type": "code",
      "source": [
        "import random\n",
        "\n",
        "def spinner(probabilityDistribution):\n",
        "    rand_num = random.random()\n",
        "    print(rand_num)\n",
        "    cumulative_prob = 0.0\n",
        "\n",
        "    for i, prob in enumerate(probabilityDistribution):\n",
        "        cumulative_prob += prob\n",
        "        if rand_num < cumulative_prob:\n",
        "            return i\n",
        "    return len(probabilityDistribution) - 1\n",
        "\n",
        "\n",
        "probabilityDistribution = [0.1,0.2, 0.2,0.5]\n",
        "\n",
        "result = spinner(probabilityDistribution)\n",
        "\n",
        "print(\"The randomly generated index is:\", result)"
      ],
      "outputs": [
        {
          "output_type": "stream",
          "name": "stdout",
          "text": [
            "0.22633625429187132\n",
            "The randomly generated index is: 1\n"
          ]
        }
      ],
      "execution_count": null,
      "metadata": {
        "id": "together-ownership",
        "colab": {
          "base_uri": "https://localhost:8080/"
        },
        "outputId": "d174725f-41eb-4b56-daaa-02e41268a32e"
      },
      "id": "together-ownership"
    },
    {
      "cell_type": "markdown",
      "source": [
        "The same problem but instead of a distribution of probability the input is a list of natural numbers that holds how many degrees has the center angle $\\theta_i$ corespondent to index $i$.\n",
        "\n",
        "### Example:\n",
        "\n",
        "Consider we have a wheel with 4 slots as in Figure\n",
        "\n",
        "![chart.png](attachment:chart.png)\n",
        "\n",
        "When we spin the wheel we get for example blue index with $12.86\\%$ chances."
      ],
      "metadata": {
        "id": "3be14413"
      },
      "id": "3be14413"
    },
    {
      "cell_type": "code",
      "source": [
        "import random\n",
        "\n",
        "def spinner_by_degrees(degrees):\n",
        "    total_degrees = sum(degrees)\n",
        "    rand_degree = random.uniform(0, 360)\n",
        "    print(rand_degree)\n",
        "    cumulative_degrees = 0\n",
        "    for i, degree in enumerate(degrees):\n",
        "        cumulative_degrees += degree\n",
        "        if rand_degree < cumulative_degrees:\n",
        "            return i\n",
        "\n",
        "    return len(degrees) - 1\n",
        "\n",
        "degrees_list = [45, 85, 70, 150]\n",
        "result = spinner_by_degrees(degrees_list)\n",
        "print(\"The randomly generated index is:\", result)\n"
      ],
      "metadata": {
        "colab": {
          "base_uri": "https://localhost:8080/"
        },
        "id": "qR3IO7uCouS0",
        "outputId": "8ea434fb-85b4-49fd-a29b-608ad5b1eda5"
      },
      "id": "qR3IO7uCouS0",
      "execution_count": null,
      "outputs": [
        {
          "output_type": "stream",
          "name": "stdout",
          "text": [
            "10.3596083589674\n",
            "The randomly generated index is: 0\n"
          ]
        }
      ]
    },
    {
      "cell_type": "markdown",
      "source": [
        "## Task 7 -- Determine some outcomes using Monte Carlo Simulations"
      ],
      "metadata": {
        "id": "c0da82ad"
      },
      "id": "c0da82ad"
    },
    {
      "cell_type": "markdown",
      "source": [
        "Consider a large pipe with a radius $R = 30 cm$ that has the opening pointing straight up, as in the figure. Around this pipe is a rectangular wall with an edge $l = 1m$. Balls of radius $r = 1 cm$ fall down uniformly from above inside the square yard. Compute, using a Monte Carlo simulation, the probability that a ball falls inside the pipe. Compare the results with the mathematically deduced probability.\n",
        "\n",
        "![MCSIM.jpg](attachment:MCSIM.jpg)"
      ],
      "metadata": {
        "id": "5d27f3f8"
      },
      "id": "5d27f3f8"
    },
    {
      "cell_type": "code",
      "source": [
        "import random\n",
        "\n",
        "def monte_carlo_simulation(num_points):\n",
        "    inside_pipe = 0\n",
        "\n",
        "    for _ in range(num_points):\n",
        "        x = random.uniform(-0.5, 0.5) * 100\n",
        "        y = random.uniform(-0.5, 0.5) * 100\n",
        "        if x**2 + y**2 <= 30**2:\n",
        "            inside_pipe += 1\n",
        "\n",
        "    probability = inside_pipe / num_points\n",
        "    return probability\n",
        "\n",
        "num_points = 10000\n",
        "\n",
        "monte_carlo_prob = monte_carlo_simulation(num_points)\n",
        "\n",
        "mathematical_prob = (3.14159 * 30**2) / (100**2)\n",
        "\n",
        "print(\"Monte Carlo Probability:\", monte_carlo_prob)\n",
        "print(\"Mathematical Probability:\", mathematical_prob)\n"
      ],
      "metadata": {
        "colab": {
          "base_uri": "https://localhost:8080/"
        },
        "id": "zis78za2mWI_",
        "outputId": "d9bf3d69-c7c5-4f6d-cade-2baa50ec1190"
      },
      "id": "zis78za2mWI_",
      "execution_count": null,
      "outputs": [
        {
          "output_type": "stream",
          "name": "stdout",
          "text": [
            "Monte Carlo Probability: 0.2782\n",
            "Mathematical Probability: 0.2827431\n"
          ]
        }
      ]
    },
    {
      "cell_type": "code",
      "source": [],
      "metadata": {
        "id": "Qij81sAPqC85"
      },
      "id": "Qij81sAPqC85",
      "execution_count": null,
      "outputs": []
    }
  ],
  "metadata": {
    "kernelspec": {
      "name": "python",
      "language": "python",
      "display_name": "Pyolite (preview)"
    },
    "language_info": {
      "codemirror_mode": {
        "name": "python",
        "version": 3
      },
      "file_extension": ".py",
      "mimetype": "text/x-python",
      "name": "python",
      "nbconvert_exporter": "python",
      "pygments_lexer": "ipython3",
      "version": "3.8"
    },
    "kernel_info": {
      "name": "python"
    },
    "nteract": {
      "version": "nteract-front-end@1.0.0"
    },
    "colab": {
      "provenance": []
    }
  },
  "nbformat": 4,
  "nbformat_minor": 5
}