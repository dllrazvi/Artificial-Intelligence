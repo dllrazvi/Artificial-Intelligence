{
 "cells": [
  {
   "cell_type": "markdown",
   "id": "b8210b19",
   "metadata": {},
   "source": [
    "## A.I. Assignment 5\n",
    "\n",
    "## Learning Goals\n",
    "\n",
    "By the end of this lab, you should be able to:\n",
    "* Get more familiar with tensors in pytorch \n",
    "* Create a simple multilayer perceptron model with pytorch\n",
    "* Visualise the parameters\n",
    "\n",
    "\n",
    "### Task\n",
    "\n",
    "Build a fully connected feed forward network that adds two bits. Determine the a propper achitecture for this network (what database you use for this problem? how many layers? how many neurons on each layer? what is the activation function? what is the loss function? etc)\n",
    "\n",
    "Create at least 3 such networks and compare their performance (how accurate they are?, how farst they are trained to get at 1 accuracy?)\n",
    "\n",
    "Display for the best one the weights for each layer.\n"
   ]
  },
  {
   "cell_type": "code",
   "execution_count": 251,
   "id": "e3614e5f",
   "metadata": {},
   "outputs": [],
   "source": [
    "import torch\n",
    "import torch.nn as nn\n",
    "import torch.optim as optim\n",
    "from collections import OrderedDict"
   ]
  },
  {
   "cell_type": "code",
   "execution_count": 252,
   "id": "5ee7e7d7",
   "metadata": {},
   "outputs": [],
   "source": [
    "model1 = nn.Sequential(OrderedDict([\n",
    "    ('hidden', nn.Linear(2, 4)), \n",
    "    ('activation', nn.ReLU()),     \n",
    "    ('output', nn.Linear(4, 2)),  \n",
    "]))\n",
    "\n",
    "\n",
    "model2 = nn.Sequential(OrderedDict([\n",
    "    ('hidden', nn.Linear(2, 4)),  \n",
    "    ('activation', nn.ReLU()),     \n",
    "    ('output', nn.Linear(4, 2)),   \n",
    "    ('sigmoid', nn.Sigmoid())      \n",
    "]))\n",
    "\n",
    "model3 = nn.Sequential(OrderedDict([\n",
    "    ('fct1', nn.Linear(2, 16)),    \n",
    "    ('relu1', nn.ReLU()),          \n",
    "    ('fct2', nn.Linear(16, 8)),  \n",
    "    ('relu2', nn.ReLU()),           \n",
    "    ('fct3', nn.Linear(8, 4)),     \n",
    "    ('relu3', nn.ReLU()),           \n",
    "    ('fct4', nn.Linear(4, 2)),     \n",
    "    ('sigmoid', nn.Sigmoid())     \n",
    "]))\n"
   ]
  },
  {
   "cell_type": "code",
   "execution_count": 253,
   "id": "665ae958",
   "metadata": {},
   "outputs": [
    {
     "name": "stdout",
     "output_type": "stream",
     "text": [
      "Sequential(\n",
      "  (hidden): Linear(in_features=2, out_features=4, bias=True)\n",
      "  (activation): ReLU()\n",
      "  (output): Linear(in_features=4, out_features=2, bias=True)\n",
      ")\n",
      "Sequential(\n",
      "  (hidden): Linear(in_features=2, out_features=4, bias=True)\n",
      "  (activation): ReLU()\n",
      "  (output): Linear(in_features=4, out_features=2, bias=True)\n",
      "  (sigmoid): Sigmoid()\n",
      ")\n",
      "Sequential(\n",
      "  (fct1): Linear(in_features=2, out_features=16, bias=True)\n",
      "  (relu1): ReLU()\n",
      "  (fct2): Linear(in_features=16, out_features=8, bias=True)\n",
      "  (relu2): ReLU()\n",
      "  (fct3): Linear(in_features=8, out_features=4, bias=True)\n",
      "  (relu3): ReLU()\n",
      "  (fct4): Linear(in_features=4, out_features=2, bias=True)\n",
      "  (sigmoid): Sigmoid()\n",
      ")\n"
     ]
    }
   ],
   "source": [
    "print(model1)\n",
    "print(model2)\n",
    "print(model3)"
   ]
  },
  {
   "cell_type": "code",
   "execution_count": 254,
   "id": "e26f0d3e",
   "metadata": {},
   "outputs": [
    {
     "name": "stdout",
     "output_type": "stream",
     "text": [
      "tensor([[0., 0.],\n",
      "        [0., 1.],\n",
      "        [1., 0.],\n",
      "        [1., 1.]])\n"
     ]
    }
   ],
   "source": [
    "data_in = torch.tensor([[0, 0], [0, 1], [1, 0], [1, 1]], dtype=torch.float32)\n",
    "\n",
    "print(data_in)"
   ]
  },
  {
   "cell_type": "code",
   "execution_count": 255,
   "id": "4fb16bbc",
   "metadata": {},
   "outputs": [
    {
     "name": "stdout",
     "output_type": "stream",
     "text": [
      "tensor([[0., 0.],\n",
      "        [0., 1.],\n",
      "        [0., 1.],\n",
      "        [1., 0.]])\n"
     ]
    }
   ],
   "source": [
    "data_target = torch.tensor([[0,0], [0,1], [0,1], [1,0]], dtype=torch.float32)\n",
    "    \n",
    "print(data_target)"
   ]
  },
  {
   "cell_type": "code",
   "execution_count": 256,
   "id": "69d920ed",
   "metadata": {},
   "outputs": [],
   "source": [
    "criterion = nn.BCEWithLogitsLoss()\n",
    "\n",
    "optimizer1 = optim.SGD(model1.parameters(), lr=0.1)\n",
    "optimizer2 = optim.SGD(model2.parameters(), lr=0.1)\n",
    "optimizer3 = optim.SGD(model3.parameters(), lr=0.1)"
   ]
  },
  {
   "cell_type": "code",
   "execution_count": 257,
   "id": "cde91f6f",
   "metadata": {},
   "outputs": [
    {
     "name": "stdout",
     "output_type": "stream",
     "text": [
      "1st model:\n",
      "Epoch [100/1000], Loss: 0.5854\n",
      "Epoch [200/1000], Loss: 0.5019\n",
      "Epoch [300/1000], Loss: 0.4110\n",
      "Epoch [400/1000], Loss: 0.3337\n",
      "Epoch [500/1000], Loss: 0.2682\n",
      "Epoch [600/1000], Loss: 0.2223\n",
      "Epoch [700/1000], Loss: 0.1855\n",
      "Epoch [800/1000], Loss: 0.1513\n",
      "Epoch [900/1000], Loss: 0.1216\n",
      "Epoch [1000/1000], Loss: 0.0986\n",
      "\n",
      "2nd model:\n",
      "Epoch [100/1000], Loss: 0.7849\n",
      "Epoch [200/1000], Loss: 0.7587\n",
      "Epoch [300/1000], Loss: 0.7382\n",
      "Epoch [400/1000], Loss: 0.7235\n",
      "Epoch [500/1000], Loss: 0.7137\n",
      "Epoch [600/1000], Loss: 0.7074\n",
      "Epoch [700/1000], Loss: 0.7032\n",
      "Epoch [800/1000], Loss: 0.7004\n",
      "Epoch [900/1000], Loss: 0.6984\n",
      "Epoch [1000/1000], Loss: 0.6969\n",
      "\n",
      "3rd model:\n",
      "Epoch [100/1000], Loss: 0.7640\n",
      "Epoch [200/1000], Loss: 0.7391\n",
      "Epoch [300/1000], Loss: 0.7200\n",
      "Epoch [400/1000], Loss: 0.7079\n",
      "Epoch [500/1000], Loss: 0.7013\n",
      "Epoch [600/1000], Loss: 0.6980\n",
      "Epoch [700/1000], Loss: 0.6963\n",
      "Epoch [800/1000], Loss: 0.6953\n",
      "Epoch [900/1000], Loss: 0.6947\n",
      "Epoch [1000/1000], Loss: 0.6943\n"
     ]
    }
   ],
   "source": [
    "num_epochs = 1000\n",
    "\n",
    "print(\"1st model:\")\n",
    "for epoch in range(num_epochs):\n",
    "    outputs_pred = model1(data_in)\n",
    "    loss = criterion(outputs_pred, data_target)\n",
    "    \n",
    "    optimizer1.zero_grad()\n",
    "    loss.backward()\n",
    "    optimizer1.step()\n",
    "    \n",
    "    if (epoch+1) % 100 == 0:\n",
    "        print(f'Epoch [{epoch+1}/{num_epochs}], Loss: {loss.item():.4f}')\n",
    "\n",
    "print(\"\\n2nd model:\")\n",
    "for epoch in range(num_epochs):\n",
    "    outputs_pred = model2(data_in)\n",
    "    loss = criterion(outputs_pred, data_target)\n",
    "    \n",
    "    optimizer2.zero_grad()\n",
    "    loss.backward()\n",
    "    optimizer2.step()\n",
    "    \n",
    "    if (epoch+1) % 100 == 0:\n",
    "        print(f'Epoch [{epoch+1}/{num_epochs}], Loss: {loss.item():.4f}')\n",
    "\n",
    "print(\"\\n3rd model:\")\n",
    "for epoch in range(num_epochs):\n",
    "    outputs_pred = model3(data_in)\n",
    "    loss = criterion(outputs_pred, data_target)\n",
    "    \n",
    "    optimizer3.zero_grad()\n",
    "    loss.backward()\n",
    "    optimizer3.step()\n",
    "    \n",
    "    if (epoch+1) % 100 == 0:\n",
    "        print(f'Epoch [{epoch+1}/{num_epochs}], Loss: {loss.item():.4f}')"
   ]
  },
  {
   "cell_type": "code",
   "execution_count": 258,
   "id": "dff3ec1a",
   "metadata": {},
   "outputs": [
    {
     "name": "stdout",
     "output_type": "stream",
     "text": [
      "1st model training accuracy: 1.0000\n",
      "2nd model training accuracy: 0.6250\n",
      "3rd model training accuracy: 0.6250\n"
     ]
    }
   ],
   "source": [
    "with torch.no_grad():\n",
    "    outputs = model1(data_in)\n",
    "    predicted = (outputs >= 0.5).float()\n",
    "    accuracy = (predicted == data_target).float().mean()\n",
    "    print(f'1st model training accuracy: {accuracy.item():.4f}')\n",
    "    \n",
    "# Second model\n",
    "with torch.no_grad():\n",
    "    outputs = model2(data_in)\n",
    "    predicted = (outputs >= 0.5).float()\n",
    "    accuracy = (predicted == data_target).float().mean()\n",
    "    print(f'2nd model training accuracy: {accuracy.item():.4f}')\n",
    "    \n",
    "# Third model\n",
    "with torch.no_grad():\n",
    "    outputs = model3(data_in)\n",
    "    predicted = (outputs >= 0.5).float()\n",
    "    accuracy = (predicted == data_target).float().mean()\n",
    "    print(f'3rd model training accuracy: {accuracy.item():.4f}')"
   ]
  },
  {
   "cell_type": "code",
   "execution_count": 259,
   "id": "c1a7518b",
   "metadata": {},
   "outputs": [
    {
     "name": "stdout",
     "output_type": "stream",
     "text": [
      "1st model:\n",
      "hidden.weight tensor([[ 2.3448,  1.0070],\n",
      "        [ 1.9272, -1.9269],\n",
      "        [ 1.2791, -1.2806],\n",
      "        [-0.7446, -1.9038]])\n",
      "hidden.bias tensor([-1.0047e+00, -2.2977e-03, -1.2677e-03,  1.9419e+00])\n",
      "output.weight tensor([[ 2.2280, -0.7549, -1.3103, -2.1775],\n",
      "        [-1.5560,  2.5645,  0.8247, -1.4961]])\n",
      "output.bias tensor([-1.6698,  0.9621])\n",
      "\n",
      "2nd model:\n",
      "hidden.weight tensor([[ 0.3622, -0.1320],\n",
      "        [-0.3997, -0.6464],\n",
      "        [-0.6421,  0.9213],\n",
      "        [ 0.1892, -0.4109]])\n",
      "hidden.bias tensor([ 1.4294, -0.1162, -0.4297, -0.3182])\n",
      "output.weight tensor([[-1.1167, -0.2940, -0.0488, -0.1643],\n",
      "        [-0.9341, -0.2597,  0.4033,  0.3462]])\n",
      "output.bias tensor([-1.7189, -0.4936])\n",
      "\n",
      "3rd model:\n",
      "fct1.weight tensor([[-0.0101, -0.5875],\n",
      "        [-0.0515, -0.0451],\n",
      "        [-0.1204, -0.4252],\n",
      "        [-0.3352, -0.1065],\n",
      "        [ 0.6498,  0.2597],\n",
      "        [-0.3644, -0.5075],\n",
      "        [ 0.2112,  0.0359],\n",
      "        [ 0.1193, -0.3443],\n",
      "        [-0.5604,  0.3371],\n",
      "        [ 0.1641, -0.0140],\n",
      "        [ 0.1913, -0.1136],\n",
      "        [ 0.6465,  0.6189],\n",
      "        [-0.0415, -0.3094],\n",
      "        [ 0.2975, -0.6119],\n",
      "        [ 0.5150,  0.0280],\n",
      "        [ 0.6629, -0.2456]])\n",
      "fct1.bias tensor([-0.6945, -0.3550, -0.6437,  0.4691, -0.2558, -0.5366,  0.4935,  0.3794,\n",
      "         0.3323,  0.6474,  0.5970,  0.7350,  0.0415,  0.5042, -0.0062, -0.3111])\n",
      "fct2.weight tensor([[ 0.1275,  0.1245, -0.2481, -0.2631,  0.0125,  0.2140,  0.0066, -0.0368,\n",
      "         -0.2565,  0.0373,  0.0094,  0.0658, -0.1991, -0.1238,  0.1902, -0.2109],\n",
      "        [-0.1398,  0.0742, -0.1377,  0.1324, -0.1738, -0.1200, -0.1412,  0.2765,\n",
      "          0.0342,  0.0490,  0.3118,  0.2747, -0.0595,  0.0887, -0.1648,  0.0908],\n",
      "        [-0.0379,  0.1409,  0.0184,  0.2310,  0.0424, -0.0947, -0.1294, -0.1136,\n",
      "         -0.2075,  0.0743, -0.1921, -0.0715, -0.2288,  0.0608,  0.1399,  0.0075],\n",
      "        [ 0.0376, -0.1252,  0.1883, -0.2775, -0.0050, -0.0900, -0.0974,  0.0057,\n",
      "         -0.2567,  0.1421, -0.1252,  0.0784, -0.2192, -0.0139, -0.2019, -0.1882],\n",
      "        [ 0.1176, -0.2342, -0.2009,  0.0605,  0.0467,  0.0523, -0.0511,  0.0979,\n",
      "          0.1566, -0.1601,  0.0536,  0.0116,  0.1934,  0.1849,  0.1449,  0.0337],\n",
      "        [ 0.2239, -0.1243,  0.0162,  0.3664, -0.2508,  0.2201,  0.0592,  0.1563,\n",
      "         -0.0547,  0.3490,  0.3241,  0.1852, -0.1549,  0.2596,  0.0453, -0.0107],\n",
      "        [ 0.1836,  0.0209,  0.0872, -0.0386,  0.2171,  0.2384,  0.2612,  0.1698,\n",
      "          0.2504,  0.3234,  0.2428,  0.4364,  0.1082,  0.2241, -0.2000, -0.1449],\n",
      "        [ 0.1335, -0.0836, -0.1961, -0.0261,  0.2035, -0.1275, -0.0387,  0.1867,\n",
      "          0.2105,  0.1249,  0.1448,  0.0855,  0.1851, -0.1323,  0.1879,  0.0757]])\n",
      "fct2.bias tensor([ 0.2118, -0.0120,  0.0841,  0.2027, -0.1303,  0.4482,  0.1126,  0.1764])\n",
      "fct3.weight tensor([[ 0.3815, -0.3422,  0.0911,  0.2215,  0.2108, -0.1378,  0.0920, -0.1288],\n",
      "        [-0.2336,  0.0839,  0.2888, -0.1738, -0.1119,  0.4210, -0.0285, -0.2860],\n",
      "        [-0.2168,  0.2964,  0.1185, -0.2213, -0.2620,  0.6946,  0.5965,  0.1848],\n",
      "        [-0.0287, -0.1451,  0.0600,  0.2221, -0.2377, -0.3267, -0.0609, -0.2654]])\n",
      "fct3.bias tensor([0.2740, 0.3419, 1.1020, 0.0111])\n",
      "fct4.weight tensor([[ 0.3174, -0.4848, -1.1705,  0.1151],\n",
      "        [-0.1656,  0.1501, -0.7618,  0.3920]])\n",
      "fct4.bias tensor([-1.2181, -0.2905])\n"
     ]
    }
   ],
   "source": [
    "# Print model weights\n",
    "\n",
    "print(\"1st model:\")\n",
    "for name, param in model1.named_parameters():\n",
    "    if param.requires_grad:\n",
    "        print(name, param.data)\n",
    "        \n",
    "print(\"\\n2nd model:\")\n",
    "for name, param in model2.named_parameters():\n",
    "    if param.requires_grad:\n",
    "        print(name, param.data)\n",
    "        \n",
    "print(\"\\n3rd model:\")\n",
    "for name, param in model3.named_parameters():\n",
    "    if param.requires_grad:\n",
    "        print(name, param.data)"
   ]
  },
  {
   "cell_type": "code",
   "execution_count": null,
   "id": "9c62d100-5001-43e4-b333-468cb7ac06cd",
   "metadata": {},
   "outputs": [],
   "source": []
  }
 ],
 "metadata": {
  "kernelspec": {
   "display_name": "Python 3 (ipykernel)",
   "language": "python",
   "name": "python3"
  },
  "language_info": {
   "codemirror_mode": {
    "name": "ipython",
    "version": 3
   },
   "file_extension": ".py",
   "mimetype": "text/x-python",
   "name": "python",
   "nbconvert_exporter": "python",
   "pygments_lexer": "ipython3",
   "version": "3.11.8"
  }
 },
 "nbformat": 4,
 "nbformat_minor": 5
}
